{
 "cells": [
  {
   "cell_type": "code",
   "execution_count": 2,
   "id": "488836e8",
   "metadata": {},
   "outputs": [],
   "source": [
    "import pandas as pd\n",
    "import numpy as np\n",
    "import matplotlib.pyplot as plt\n",
    "import seaborn as sns\n",
    "\n",
    "test = pd.read_csv('Test.csv')\n",
    "train = pd.read_csv('Train.csv')"
   ]
  },
  {
   "cell_type": "code",
   "execution_count": 3,
   "id": "668ea9cc",
   "metadata": {},
   "outputs": [
    {
     "name": "stdout",
     "output_type": "stream",
     "text": [
      "<class 'pandas.core.frame.DataFrame'>\n",
      "RangeIndex: 23524 entries, 0 to 23523\n",
      "Data columns (total 13 columns):\n",
      " #   Column                  Non-Null Count  Dtype \n",
      "---  ------                  --------------  ----- \n",
      " 0   country                 23524 non-null  object\n",
      " 1   year                    23524 non-null  int64 \n",
      " 2   uniqueid                23524 non-null  object\n",
      " 3   bank_account            23524 non-null  object\n",
      " 4   location_type           23524 non-null  object\n",
      " 5   cellphone_access        23524 non-null  object\n",
      " 6   household_size          23524 non-null  int64 \n",
      " 7   age_of_respondent       23524 non-null  int64 \n",
      " 8   gender_of_respondent    23524 non-null  object\n",
      " 9   relationship_with_head  23524 non-null  object\n",
      " 10  marital_status          23524 non-null  object\n",
      " 11  education_level         23524 non-null  object\n",
      " 12  job_type                23524 non-null  object\n",
      "dtypes: int64(3), object(10)\n",
      "memory usage: 2.3+ MB\n"
     ]
    }
   ],
   "source": [
    "train.info()"
   ]
  },
  {
   "cell_type": "markdown",
   "id": "0f214058",
   "metadata": {},
   "source": [
    "### Number of phones per country"
   ]
  },
  {
   "cell_type": "code",
   "execution_count": 4,
   "id": "f9ff2878",
   "metadata": {},
   "outputs": [
    {
     "data": {
      "text/plain": [
       "4785"
      ]
     },
     "execution_count": 4,
     "metadata": {},
     "output_type": "execute_result"
    }
   ],
   "source": [
    "k_phones = train[(train['country'] == 'Kenya') & (train['cellphone_access'] == 'Yes')]\n",
    "ken = len(k_phones)\n",
    "ken"
   ]
  },
  {
   "cell_type": "code",
   "execution_count": 5,
   "id": "a711ea1c",
   "metadata": {},
   "outputs": [
    {
     "data": {
      "text/plain": [
       "7249"
      ]
     },
     "execution_count": 5,
     "metadata": {},
     "output_type": "execute_result"
    }
   ],
   "source": [
    "r_phones = train[(train['country'] == 'Rwanda') & (train['cellphone_access'] == 'Yes')]\n",
    "rwa = len(r_phones)\n",
    "rwa"
   ]
  },
  {
   "cell_type": "code",
   "execution_count": 6,
   "id": "79955590",
   "metadata": {},
   "outputs": [
    {
     "data": {
      "text/plain": [
       "3956"
      ]
     },
     "execution_count": 6,
     "metadata": {},
     "output_type": "execute_result"
    }
   ],
   "source": [
    "t_phones = train[(train['country'] == 'Tanzania') & (train['cellphone_access'] == 'Yes')]\n",
    "tzn = len(t_phones)\n",
    "tzn"
   ]
  },
  {
   "cell_type": "code",
   "execution_count": 7,
   "id": "25133618",
   "metadata": {},
   "outputs": [
    {
     "data": {
      "text/plain": [
       "1464"
      ]
     },
     "execution_count": 7,
     "metadata": {},
     "output_type": "execute_result"
    }
   ],
   "source": [
    "u_phones = train[(train['country'] == 'Uganda') & (train['cellphone_access'] == 'Yes')]\n",
    "uga = len(u_phones)\n",
    "uga"
   ]
  },
  {
   "cell_type": "code",
   "execution_count": 8,
   "id": "2ec2ad45",
   "metadata": {},
   "outputs": [
    {
     "data": {
      "text/plain": [
       "([<matplotlib.patches.Wedge at 0x1c0db701430>,\n",
       "  <matplotlib.patches.Wedge at 0x1c0db701b50>,\n",
       "  <matplotlib.patches.Wedge at 0x1c0db71a2b0>,\n",
       "  <matplotlib.patches.Wedge at 0x1c0db71a9d0>],\n",
       " [Text(0.7166260629062392, 0.8345340532078382, 'Kenya'),\n",
       "  Text(-1.092822923862854, 0.12545141322377734, 'Rwanda'),\n",
       "  Text(0.3582435052475668, -1.040029610611129, 'Tanzania'),\n",
       "  Text(1.0620300352209258, -0.28651737170482233, 'Uganda')],\n",
       " [Text(0.39088694340340313, 0.4552003926588208, '27.41'),\n",
       "  Text(-0.5960852311979203, 0.06842804357660581, '41.53'),\n",
       "  Text(0.1954055483168546, -0.5672888785151613, '22.67'),\n",
       "  Text(0.5792891101205049, -0.1562822027480849, '8.39')])"
      ]
     },
     "execution_count": 8,
     "metadata": {},
     "output_type": "execute_result"
    },
    {
     "data": {
      "image/png": "[encoded data removed]",
      "text/plain": [
       "<Figure size 640x480 with 1 Axes>"
      ]
     },
     "metadata": {},
     "output_type": "display_data"
    }
   ],
   "source": [
    "\n",
    "plt.pie([ken, rwa, tzn, uga], labels=['Kenya', 'Rwanda', 'Tanzania', 'Uganda'], autopct='%.2f')\n"
   ]
  },
  {
   "cell_type": "markdown",
   "id": "cac28b13",
   "metadata": {},
   "source": [
    "### People with phones that have a bank account per country"
   ]
  },
  {
   "cell_type": "code",
   "execution_count": 9,
   "id": "232a6c47",
   "metadata": {},
   "outputs": [
    {
     "data": {
      "text/plain": [
       "1459"
      ]
     },
     "execution_count": 9,
     "metadata": {},
     "output_type": "execute_result"
    }
   ],
   "source": [
    "ke = len(k_phones[k_phones['bank_account'] == 'Yes'])\n",
    "ke"
   ]
  },
  {
   "cell_type": "code",
   "execution_count": 10,
   "id": "7d49168c",
   "metadata": {},
   "outputs": [
    {
     "data": {
      "text/plain": [
       "984"
      ]
     },
     "execution_count": 10,
     "metadata": {},
     "output_type": "execute_result"
    }
   ],
   "source": [
    "rw = len(r_phones[r_phones['bank_account'] == 'Yes'])\n",
    "rw"
   ]
  },
  {
   "cell_type": "code",
   "execution_count": 11,
   "id": "67a4bc67",
   "metadata": {},
   "outputs": [
    {
     "data": {
      "text/plain": [
       "594"
      ]
     },
     "execution_count": 11,
     "metadata": {},
     "output_type": "execute_result"
    }
   ],
   "source": [
    "tz = len(t_phones[t_phones['bank_account'] == 'Yes'])\n",
    "tz"
   ]
  },
  {
   "cell_type": "code",
   "execution_count": 12,
   "id": "32a14074",
   "metadata": {},
   "outputs": [
    {
     "data": {
      "text/plain": [
       "171"
      ]
     },
     "execution_count": 12,
     "metadata": {},
     "output_type": "execute_result"
    }
   ],
   "source": [
    "ug = len(u_phones[u_phones['bank_account'] == 'Yes'])\n",
    "ug"
   ]
  },
  {
   "cell_type": "code",
   "execution_count": 13,
   "id": "451a7735",
   "metadata": {},
   "outputs": [
    {
     "data": {
      "text/plain": [
       "Text(0.5, 1.0, 'People with phones who have bank accounts per country')"
      ]
     },
     "execution_count": 13,
     "metadata": {},
     "output_type": "execute_result"
    },
    {
     "data": {
      "image/png": "[encoded data removed]",
      "text/plain": [
       "<Figure size 640x480 with 1 Axes>"
      ]
     },
     "metadata": {},
     "output_type": "display_data"
    }
   ],
   "source": [
    "plt.bar(['Kenya', 'Rwanda', 'Tanzania', 'Uganda'],[ke,rw,tz,ug])\n",
    "plt.title('People with phones who have bank accounts per country')"
   ]
  },
  {
   "cell_type": "markdown",
   "id": "3fc2da01",
   "metadata": {},
   "source": [
    "### People living in rural areas with phones per country"
   ]
  },
  {
   "cell_type": "code",
   "execution_count": 14,
   "id": "37d5c620",
   "metadata": {},
   "outputs": [
    {
     "data": {
      "text/plain": [
       "6073"
      ]
     },
     "execution_count": 14,
     "metadata": {},
     "output_type": "execute_result"
    }
   ],
   "source": [
    "r = len(r_phones[r_phones['location_type'] == 'Rural'])\n",
    "r"
   ]
  },
  {
   "cell_type": "code",
   "execution_count": 15,
   "id": "28dcdda3",
   "metadata": {},
   "outputs": [
    {
     "data": {
      "text/plain": [
       "2594"
      ]
     },
     "execution_count": 15,
     "metadata": {},
     "output_type": "execute_result"
    }
   ],
   "source": [
    "k = len(k_phones[k_phones['location_type'] == 'Rural'])\n",
    "k"
   ]
  },
  {
   "cell_type": "code",
   "execution_count": 16,
   "id": "ecffe3e9",
   "metadata": {},
   "outputs": [
    {
     "data": {
      "text/plain": [
       "1437"
      ]
     },
     "execution_count": 16,
     "metadata": {},
     "output_type": "execute_result"
    }
   ],
   "source": [
    "t = len(t_phones[t_phones['location_type'] == 'Rural'])\n",
    "t"
   ]
  },
  {
   "cell_type": "code",
   "execution_count": 17,
   "id": "579a3b88",
   "metadata": {},
   "outputs": [
    {
     "data": {
      "text/plain": [
       "966"
      ]
     },
     "execution_count": 17,
     "metadata": {},
     "output_type": "execute_result"
    }
   ],
   "source": [
    "u = len(u_phones[u_phones['location_type'] == 'Rural'])\n",
    "u"
   ]
  },
  {
   "cell_type": "code",
   "execution_count": 18,
   "id": "81c78ee8",
   "metadata": {},
   "outputs": [
    {
     "data": {
      "text/plain": [
       "<BarContainer object of 4 artists>"
      ]
     },
     "execution_count": 18,
     "metadata": {},
     "output_type": "execute_result"
    },
    {
     "data": {
      "image/png": "[encoded data removed]",
      "text/plain": [
       "<Figure size 640x480 with 1 Axes>"
      ]
     },
     "metadata": {},
     "output_type": "display_data"
    }
   ],
   "source": [
    "plt.bar(['Rwanda', 'Kenya', 'Tanzania', 'Uganda'], [r,k,t,u])"
   ]
  },
  {
   "cell_type": "markdown",
   "id": "c9749f4f",
   "metadata": {},
   "source": [
    "### Relationship between job type and bank account ownership"
   ]
  },
  {
   "cell_type": "code",
   "execution_count": 19,
   "id": "eb0df16c",
   "metadata": {},
   "outputs": [
    {
     "data": {
      "text/plain": [
       "Self employed                   6437\n",
       "Informally employed             5597\n",
       "Farming and Fishing             5441\n",
       "Remittance Dependent            2527\n",
       "Other Income                    1080\n",
       "Formally employed Private       1055\n",
       "No Income                        627\n",
       "Formally employed Government     387\n",
       "Government Dependent             247\n",
       "Dont Know/Refuse to answer       126\n",
       "Name: job_type, dtype: int64"
      ]
     },
     "execution_count": 19,
     "metadata": {},
     "output_type": "execute_result"
    }
   ],
   "source": [
    "train['job_type'].value_counts()"
   ]
  },
  {
   "cell_type": "code",
   "execution_count": 20,
   "id": "10f0cd1e",
   "metadata": {},
   "outputs": [
    {
     "data": {
      "text/plain": [
       "848"
      ]
     },
     "execution_count": 20,
     "metadata": {},
     "output_type": "execute_result"
    }
   ],
   "source": [
    "len(train[(train['job_type'] == 'Self employed') & (train['bank_account'] == 'Yes')])\n"
   ]
  },
  {
   "cell_type": "code",
   "execution_count": 21,
   "id": "7a2cbad5",
   "metadata": {},
   "outputs": [
    {
     "data": {
      "text/plain": [
       "445"
      ]
     },
     "execution_count": 21,
     "metadata": {},
     "output_type": "execute_result"
    }
   ],
   "source": [
    "len(train[(train['job_type'] == 'Informally employed') & (train['bank_account'] == 'Yes')])"
   ]
  },
  {
   "cell_type": "code",
   "execution_count": 22,
   "id": "390213f6",
   "metadata": {},
   "outputs": [
    {
     "data": {
      "text/plain": [
       "635"
      ]
     },
     "execution_count": 22,
     "metadata": {},
     "output_type": "execute_result"
    }
   ],
   "source": [
    "len(train[(train['job_type'] == 'Farming and Fishing') & (train['bank_account'] == 'Yes')])"
   ]
  },
  {
   "cell_type": "code",
   "execution_count": 23,
   "id": "e52ccf19",
   "metadata": {},
   "outputs": [
    {
     "data": {
      "text/plain": [
       "240"
      ]
     },
     "execution_count": 23,
     "metadata": {},
     "output_type": "execute_result"
    }
   ],
   "source": [
    "len(train[(train['job_type'] == 'Remittance Dependent') & (train['bank_account'] == 'Yes')])"
   ]
  },
  {
   "cell_type": "code",
   "execution_count": 24,
   "id": "508dbab5",
   "metadata": {},
   "outputs": [
    {
     "data": {
      "text/plain": [
       "196"
      ]
     },
     "execution_count": 24,
     "metadata": {},
     "output_type": "execute_result"
    }
   ],
   "source": [
    "len(train[(train['job_type'] == 'Other Income') & (train['bank_account'] == 'Yes')])"
   ]
  },
  {
   "cell_type": "code",
   "execution_count": 25,
   "id": "d90af0e6",
   "metadata": {},
   "outputs": [
    {
     "data": {
      "text/plain": [
       "571"
      ]
     },
     "execution_count": 25,
     "metadata": {},
     "output_type": "execute_result"
    }
   ],
   "source": [
    "len(train[(train['job_type'] == 'Formally employed Private') & (train['bank_account'] == 'Yes')])"
   ]
  },
  {
   "cell_type": "code",
   "execution_count": 26,
   "id": "8f5d5210",
   "metadata": {},
   "outputs": [
    {
     "data": {
      "text/plain": [
       "50"
      ]
     },
     "execution_count": 26,
     "metadata": {},
     "output_type": "execute_result"
    }
   ],
   "source": [
    "len(train[(train['job_type'] == 'Government Dependent') & (train['bank_account'] == 'Yes')])"
   ]
  },
  {
   "cell_type": "code",
   "execution_count": 27,
   "id": "802b5eb9",
   "metadata": {},
   "outputs": [
    {
     "data": {
      "text/plain": [
       "14"
      ]
     },
     "execution_count": 27,
     "metadata": {},
     "output_type": "execute_result"
    }
   ],
   "source": [
    "len(train[(train['job_type'] == 'Dont Know/Refuse to answer') & (train['bank_account'] == 'Yes')])"
   ]
  },
  {
   "cell_type": "code",
   "execution_count": 28,
   "id": "a0dbbbe1",
   "metadata": {},
   "outputs": [
    {
     "data": {
      "text/plain": [
       "<seaborn.axisgrid.FacetGrid at 0x1c0dc164c40>"
      ]
     },
     "execution_count": 28,
     "metadata": {},
     "output_type": "execute_result"
    },
    {
     "data": {
      "image/png": "[encoded data removed]",
      "text/plain": [
       "<Figure size 500x500 with 1 Axes>"
      ]
     },
     "metadata": {},
     "output_type": "display_data"
    }
   ],
   "source": [
    "sns.catplot(x='bank_account', y='job_type', data=train, jitter='0.25')"
   ]
  },
  {
   "cell_type": "markdown",
   "id": "a70b15a4",
   "metadata": {},
   "source": [
    "### Relationship between gender and bank account ownership"
   ]
  },
  {
   "cell_type": "code",
   "execution_count": 29,
   "id": "1b395c9c",
   "metadata": {},
   "outputs": [
    {
     "data": {
      "text/plain": [
       "Female    13877\n",
       "Male       9647\n",
       "Name: gender_of_respondent, dtype: int64"
      ]
     },
     "execution_count": 29,
     "metadata": {},
     "output_type": "execute_result"
    }
   ],
   "source": [
    "train['gender_of_respondent'].value_counts()"
   ]
  },
  {
   "cell_type": "code",
   "execution_count": 30,
   "id": "7e9d2a47",
   "metadata": {},
   "outputs": [
    {
     "data": {
      "text/plain": [
       "1482"
      ]
     },
     "execution_count": 30,
     "metadata": {},
     "output_type": "execute_result"
    }
   ],
   "source": [
    "fem = len(train[(train['gender_of_respondent'] == 'Female') & (train['bank_account'] == 'Yes')])\n",
    "fem"
   ]
  },
  {
   "cell_type": "code",
   "execution_count": 31,
   "id": "aefd92bb",
   "metadata": {},
   "outputs": [
    {
     "data": {
      "text/plain": [
       "1830"
      ]
     },
     "execution_count": 31,
     "metadata": {},
     "output_type": "execute_result"
    }
   ],
   "source": [
    "mal = len(train[(train['gender_of_respondent'] == 'Male') & (train['bank_account'] == 'Yes')])\n",
    "mal"
   ]
  },
  {
   "cell_type": "code",
   "execution_count": 32,
   "id": "511acd26",
   "metadata": {},
   "outputs": [
    {
     "data": {
      "text/plain": [
       "[1482, 1830]"
      ]
     },
     "execution_count": 32,
     "metadata": {},
     "output_type": "execute_result"
    }
   ],
   "source": [
    "gen_numbers = [fem, mal]\n",
    "gen_numbers"
   ]
  },
  {
   "cell_type": "code",
   "execution_count": 33,
   "id": "8fa77544",
   "metadata": {},
   "outputs": [
    {
     "data": {
      "text/plain": [
       "['Female', 'Male']"
      ]
     },
     "execution_count": 33,
     "metadata": {},
     "output_type": "execute_result"
    }
   ],
   "source": [
    "gen = ['Female','Male']\n",
    "gen"
   ]
  },
  {
   "cell_type": "code",
   "execution_count": 34,
   "id": "7c88a73a",
   "metadata": {},
   "outputs": [
    {
     "data": {
      "image/png": "[encoded data removed]",
      "text/plain": [
       "<Figure size 640x480 with 1 Axes>"
      ]
     },
     "metadata": {},
     "output_type": "display_data"
    }
   ],
   "source": [
    "plt.barh(gen, gen_numbers)\n",
    "plt.title('Bank account ownership in relation to gender')\n",
    "plt.show()"
   ]
  },
  {
   "cell_type": "markdown",
   "id": "8d33e93e",
   "metadata": {},
   "source": [
    "### Relationship between relationship with head of the family and bank account ownership"
   ]
  },
  {
   "cell_type": "code",
   "execution_count": 35,
   "id": "4552b0d9",
   "metadata": {},
   "outputs": [
    {
     "data": {
      "text/plain": [
       "Head of Household      12831\n",
       "Spouse                  6520\n",
       "Child                   2229\n",
       "Parent                  1086\n",
       "Other relative           668\n",
       "Other non-relatives      190\n",
       "Name: relationship_with_head, dtype: int64"
      ]
     },
     "execution_count": 35,
     "metadata": {},
     "output_type": "execute_result"
    }
   ],
   "source": [
    "train['relationship_with_head'].value_counts()"
   ]
  },
  {
   "cell_type": "code",
   "execution_count": 36,
   "id": "33e8c5a3",
   "metadata": {},
   "outputs": [
    {
     "data": {
      "text/plain": [
       "2273"
      ]
     },
     "execution_count": 36,
     "metadata": {},
     "output_type": "execute_result"
    }
   ],
   "source": [
    "train[(train['relationship_with_head'] == 'Head of Household') & (train['bank_account'] == 'Yes')].count()[0]"
   ]
  },
  {
   "cell_type": "code",
   "execution_count": 37,
   "id": "cc823d9f",
   "metadata": {},
   "outputs": [
    {
     "data": {
      "text/plain": [
       "695"
      ]
     },
     "execution_count": 37,
     "metadata": {},
     "output_type": "execute_result"
    }
   ],
   "source": [
    "train[(train['relationship_with_head'] == 'Spouse') & (train['bank_account'] == 'Yes')].count()[0]"
   ]
  },
  {
   "cell_type": "code",
   "execution_count": 38,
   "id": "030f84a2",
   "metadata": {},
   "outputs": [
    {
     "data": {
      "text/plain": [
       "193"
      ]
     },
     "execution_count": 38,
     "metadata": {},
     "output_type": "execute_result"
    }
   ],
   "source": [
    "train[(train['relationship_with_head'] == 'Child') & (train['bank_account'] == 'Yes')].count()[0]"
   ]
  },
  {
   "cell_type": "code",
   "execution_count": 39,
   "id": "21fc0957",
   "metadata": {},
   "outputs": [
    {
     "data": {
      "text/plain": [
       "65"
      ]
     },
     "execution_count": 39,
     "metadata": {},
     "output_type": "execute_result"
    }
   ],
   "source": [
    "train[(train['relationship_with_head'] == 'Parent') & (train['bank_account'] == 'Yes')].count()[0]"
   ]
  },
  {
   "cell_type": "code",
   "execution_count": 40,
   "id": "f95731e6",
   "metadata": {},
   "outputs": [
    {
     "data": {
      "text/plain": [
       "66"
      ]
     },
     "execution_count": 40,
     "metadata": {},
     "output_type": "execute_result"
    }
   ],
   "source": [
    "train[(train['relationship_with_head'] == 'Other relative') & (train['bank_account'] == 'Yes')].count()[0]"
   ]
  },
  {
   "cell_type": "code",
   "execution_count": 41,
   "id": "cda2714f",
   "metadata": {},
   "outputs": [
    {
     "data": {
      "text/plain": [
       "20"
      ]
     },
     "execution_count": 41,
     "metadata": {},
     "output_type": "execute_result"
    }
   ],
   "source": [
    "train[(train['relationship_with_head'] == 'Other non-relatives') & (train['bank_account'] == 'Yes')].count()[0]"
   ]
  },
  {
   "cell_type": "markdown",
   "id": "31e9fa68",
   "metadata": {},
   "source": [
    "### Relationship between education level and bank account ownership"
   ]
  },
  {
   "cell_type": "code",
   "execution_count": 42,
   "id": "5e0e68fb",
   "metadata": {},
   "outputs": [
    {
     "data": {
      "text/plain": [
       "Primary education                  12791\n",
       "No formal education                 4515\n",
       "Secondary education                 4223\n",
       "Tertiary education                  1157\n",
       "Vocational/Specialised training      803\n",
       "Other/Dont know/RTA                   35\n",
       "Name: education_level, dtype: int64"
      ]
     },
     "execution_count": 42,
     "metadata": {},
     "output_type": "execute_result"
    }
   ],
   "source": [
    "train['education_level'].value_counts()"
   ]
  },
  {
   "cell_type": "code",
   "execution_count": 43,
   "id": "92589b77",
   "metadata": {},
   "outputs": [
    {
     "data": {
      "text/plain": [
       "1093"
      ]
     },
     "execution_count": 43,
     "metadata": {},
     "output_type": "execute_result"
    }
   ],
   "source": [
    "pri = train[(train['education_level'] == 'Primary education') & (train['bank_account'] == 'Yes')].count()[0]\n",
    "pri"
   ]
  },
  {
   "cell_type": "code",
   "execution_count": 44,
   "id": "5a6941a7",
   "metadata": {},
   "outputs": [
    {
     "data": {
      "text/plain": [
       "176"
      ]
     },
     "execution_count": 44,
     "metadata": {},
     "output_type": "execute_result"
    }
   ],
   "source": [
    "nfm = train[(train['education_level'] == 'No formal education') & (train['bank_account'] == 'Yes')].count()[0]\n",
    "nfm"
   ]
  },
  {
   "cell_type": "code",
   "execution_count": 45,
   "id": "084a7243",
   "metadata": {},
   "outputs": [
    {
     "data": {
      "text/plain": [
       "983"
      ]
     },
     "execution_count": 45,
     "metadata": {},
     "output_type": "execute_result"
    }
   ],
   "source": [
    "sec = train[(train['education_level'] == 'Secondary education') & (train['bank_account'] == 'Yes')].count()[0]\n",
    "sec"
   ]
  },
  {
   "cell_type": "code",
   "execution_count": 46,
   "id": "bff198ee",
   "metadata": {},
   "outputs": [
    {
     "data": {
      "text/plain": [
       "591"
      ]
     },
     "execution_count": 46,
     "metadata": {},
     "output_type": "execute_result"
    }
   ],
   "source": [
    "tet = train[(train['education_level'] == 'Tertiary education') & (train['bank_account'] == 'Yes')].count()[0]\n",
    "tet"
   ]
  },
  {
   "cell_type": "code",
   "execution_count": 47,
   "id": "0b1162d4",
   "metadata": {},
   "outputs": [
    {
     "data": {
      "text/plain": [
       "458"
      ]
     },
     "execution_count": 47,
     "metadata": {},
     "output_type": "execute_result"
    }
   ],
   "source": [
    "voc = train[(train['education_level'] == 'Vocational/Specialised training') & (train['bank_account'] == 'Yes')].count()[0]\n",
    "voc"
   ]
  },
  {
   "cell_type": "code",
   "execution_count": 48,
   "id": "ce393d58",
   "metadata": {},
   "outputs": [
    {
     "data": {
      "text/plain": [
       "11"
      ]
     },
     "execution_count": 48,
     "metadata": {},
     "output_type": "execute_result"
    }
   ],
   "source": [
    "oth = train[(train['education_level'] == 'Other/Dont know/RTA') & (train['bank_account'] == 'Yes')].count()[0]\n",
    "oth"
   ]
  },
  {
   "cell_type": "code",
   "execution_count": 49,
   "id": "c9b9b597",
   "metadata": {},
   "outputs": [
    {
     "data": {
      "text/plain": [
       "([<matplotlib.patches.Wedge at 0x1c0dd2e7d00>,\n",
       "  <matplotlib.patches.Wedge at 0x1c0dd2dbca0>,\n",
       "  <matplotlib.patches.Wedge at 0x1c0dd2f45e0>,\n",
       "  <matplotlib.patches.Wedge at 0x1c0dd2f4ac0>,\n",
       "  <matplotlib.patches.Wedge at 0x1c0dd2f4fa0>,\n",
       "  <matplotlib.patches.Wedge at 0x1c0dd3044c0>],\n",
       " [Text(0.6108104899060817, 1.0329136195349022, 'Primary Education'),\n",
       "  Text(-0.6828045757614096, 0.8624255975556858, 'No Formal Education'),\n",
       "  Text(-1.0784547482087425, -0.2166456924704896, 'Secondary Education'),\n",
       "  Text(0.13219195919332, -1.092028060960263, 'Tertiary Education'),\n",
       "  Text(1.077753254312614, -0.5276816491205376, 'Vocational/Specialised Training'),\n",
       "  Text(1.399923792651683, -0.014607353207483664, 'Other/Dont Know/RTA')])"
      ]
     },
     "execution_count": 49,
     "metadata": {},
     "output_type": "execute_result"
    },
    {
     "data": {
      "image/png": "[encoded data removed]",
      "text/plain": [
       "<Figure size 640x480 with 1 Axes>"
      ]
     },
     "metadata": {},
     "output_type": "display_data"
    }
   ],
   "source": [
    "explode = (.1,0,0,0,.1,.3)\n",
    "lab = ['Primary Education', 'No Formal Education', 'Secondary Education', 'Tertiary Education', 'Vocational/Specialised Training', 'Other/Dont Know/RTA']\n",
    "plt.pie([pri, nfm, sec, tet, voc, oth], labels=lab, pctdistance = 0.8, explode = explode)"
   ]
  },
  {
   "cell_type": "markdown",
   "id": "23393686",
   "metadata": {},
   "source": [
    "### Number of people in the rural area who own a phone and bank account"
   ]
  },
  {
   "cell_type": "code",
   "execution_count": 50,
   "id": "8238cdda",
   "metadata": {},
   "outputs": [
    {
     "data": {
      "text/plain": [
       "1600"
      ]
     },
     "execution_count": 50,
     "metadata": {},
     "output_type": "execute_result"
    }
   ],
   "source": [
    "w =train[(train['location_type']=='Rural') & (train['cellphone_access']=='Yes') & (train['bank_account']=='Yes')].count()[0]\n",
    "w"
   ]
  },
  {
   "cell_type": "markdown",
   "id": "85aa9def",
   "metadata": {},
   "source": [
    "### Number of people in the rural area who have no phone and no bank account"
   ]
  },
  {
   "cell_type": "code",
   "execution_count": 51,
   "id": "1c685453",
   "metadata": {},
   "outputs": [
    {
     "data": {
      "text/plain": [
       "3202"
      ]
     },
     "execution_count": 51,
     "metadata": {},
     "output_type": "execute_result"
    }
   ],
   "source": [
    "x = train[(train['location_type']=='Rural') & (train['cellphone_access']=='No') & (train['bank_account']=='No')].count()[0]\n",
    "x"
   ]
  },
  {
   "cell_type": "markdown",
   "id": "8e038659",
   "metadata": {},
   "source": [
    "### Number of people in the rural area who have a phone but have no bank account"
   ]
  },
  {
   "cell_type": "code",
   "execution_count": 52,
   "id": "7e06f67d",
   "metadata": {},
   "outputs": [
    {
     "data": {
      "text/plain": [
       "9470"
      ]
     },
     "execution_count": 52,
     "metadata": {},
     "output_type": "execute_result"
    }
   ],
   "source": [
    "y = train[(train['location_type']=='Rural') & (train['cellphone_access']=='Yes') & (train['bank_account']=='No')].count()[0]\n",
    "y"
   ]
  },
  {
   "cell_type": "markdown",
   "id": "a3bca7ed",
   "metadata": {},
   "source": [
    "### Number of people on the rural area who have no phone but have a bank account"
   ]
  },
  {
   "cell_type": "code",
   "execution_count": 53,
   "id": "352eee2d",
   "metadata": {},
   "outputs": [
    {
     "data": {
      "text/plain": [
       "71"
      ]
     },
     "execution_count": 53,
     "metadata": {},
     "output_type": "execute_result"
    }
   ],
   "source": [
    "z = train[(train['location_type']=='Rural') & (train['cellphone_access']=='No') & (train['bank_account']=='Yes')].count()[0]\n",
    "z"
   ]
  },
  {
   "cell_type": "code",
   "execution_count": 54,
   "id": "90ec0d83",
   "metadata": {},
   "outputs": [
    {
     "data": {
      "text/plain": [
       "<BarContainer object of 4 artists>"
      ]
     },
     "execution_count": 54,
     "metadata": {},
     "output_type": "execute_result"
    },
    {
     "data": {
      "image/png": "[encoded data removed]",
      "text/plain": [
       "<Figure size 640x480 with 1 Axes>"
      ]
     },
     "metadata": {},
     "output_type": "display_data"
    }
   ],
   "source": [
    "status = ['P/B', 'P/No B', 'No P/B', 'No P/No B']\n",
    "plt.bar(status, [w,x,y,z])"
   ]
  },
  {
   "cell_type": "markdown",
   "id": "ee963ab4",
   "metadata": {},
   "source": [
    "### Average age of data collection"
   ]
  },
  {
   "cell_type": "code",
   "execution_count": 55,
   "id": "1e8a21ea",
   "metadata": {},
   "outputs": [
    {
     "data": {
      "text/plain": [
       "38.80522020064615"
      ]
     },
     "execution_count": 55,
     "metadata": {},
     "output_type": "execute_result"
    }
   ],
   "source": [
    "train['age_of_respondent'].mean()\n"
   ]
  },
  {
   "cell_type": "code",
   "execution_count": 56,
   "id": "ccd30e20",
   "metadata": {},
   "outputs": [
    {
     "data": {
      "text/plain": [
       "array([<AxesSubplot:title={'center':'No'}>,\n",
       "       <AxesSubplot:title={'center':'Yes'}>], dtype=object)"
      ]
     },
     "execution_count": 56,
     "metadata": {},
     "output_type": "execute_result"
    },
    {
     "data": {
      "image/png": "[encoded data removed]",
      "text/plain": [
       "<Figure size 640x480 with 2 Axes>"
      ]
     },
     "metadata": {},
     "output_type": "display_data"
    }
   ],
   "source": [
    "train.hist(column='age_of_respondent', by='bank_account')"
   ]
  },
  {
   "cell_type": "markdown",
   "id": "64361a93",
   "metadata": {},
   "source": [
    "### Correlation heatmap\n"
   ]
  },
  {
   "cell_type": "code",
   "execution_count": 57,
   "id": "d09f3d07",
   "metadata": {},
   "outputs": [
    {
     "data": {
      "text/html": [
       "<div>\n",
       "<style scoped>\n",
       "    .dataframe tbody tr th:only-of-type {\n",
       "        vertical-align: middle;\n",
       "    }\n",
       "\n",
       "    .dataframe tbody tr th {\n",
       "        vertical-align: top;\n",
       "    }\n",
       "\n",
       "    .dataframe thead th {\n",
       "        text-align: right;\n",
       "    }\n",
       "</style>\n",
       "<table border=\"1\" class=\"dataframe\">\n",
       "  <thead>\n",
       "    <tr style=\"text-align: right;\">\n",
       "      <th></th>\n",
       "      <th>year</th>\n",
       "      <th>household_size</th>\n",
       "      <th>age_of_respondent</th>\n",
       "    </tr>\n",
       "  </thead>\n",
       "  <tbody>\n",
       "    <tr>\n",
       "      <th>year</th>\n",
       "      <td>1.000000</td>\n",
       "      <td>-0.052264</td>\n",
       "      <td>-0.019330</td>\n",
       "    </tr>\n",
       "    <tr>\n",
       "      <th>household_size</th>\n",
       "      <td>-0.052264</td>\n",
       "      <td>1.000000</td>\n",
       "      <td>-0.129729</td>\n",
       "    </tr>\n",
       "    <tr>\n",
       "      <th>age_of_respondent</th>\n",
       "      <td>-0.019330</td>\n",
       "      <td>-0.129729</td>\n",
       "      <td>1.000000</td>\n",
       "    </tr>\n",
       "  </tbody>\n",
       "</table>\n",
       "</div>"
      ],
      "text/plain": [
       "                       year  household_size  age_of_respondent\n",
       "year               1.000000       -0.052264          -0.019330\n",
       "household_size    -0.052264        1.000000          -0.129729\n",
       "age_of_respondent -0.019330       -0.129729           1.000000"
      ]
     },
     "execution_count": 57,
     "metadata": {},
     "output_type": "execute_result"
    }
   ],
   "source": [
    "train.corr()"
   ]
  },
  {
   "cell_type": "code",
   "execution_count": 58,
   "id": "d622aa96",
   "metadata": {},
   "outputs": [
    {
     "data": {
      "text/plain": [
       "<AxesSubplot:>"
      ]
     },
     "execution_count": 58,
     "metadata": {},
     "output_type": "execute_result"
    },
    {
     "data": {
      "image/png": "[encoded data removed]",
      "text/plain": [
       "<Figure size 640x480 with 2 Axes>"
      ]
     },
     "metadata": {},
     "output_type": "display_data"
    }
   ],
   "source": [
    "sns.heatmap(train.corr())"
   ]
  }
 ],
 "metadata": {
  "kernelspec": {
   "display_name": "Python 3 (ipykernel)",
   "language": "python",
   "name": "python3"
  },
  "language_info": {
   "codemirror_mode": {
    "name": "ipython",
    "version": 3
   },
   "file_extension": ".py",
   "mimetype": "text/x-python",
   "name": "python",
   "nbconvert_exporter": "python",
   "pygments_lexer": "ipython3",
   "version": "3.9.13"
  }
 },
 "nbformat": 4,
 "nbformat_minor": 5
}
