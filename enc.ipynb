{
 "cells": [
  {
   "cell_type": "code",
   "execution_count": 26,
   "id": "0a16b484",
   "metadata": {},
   "outputs": [],
   "source": [
    "import pandas as pd\n",
    "import numpy as np\n",
    "import matplotlib.pyplot as plt\n",
    "import seaborn as sns\n",
    "\n",
    "test = pd.read_csv('Test.csv')\n",
    "train = pd.read_csv('Train.csv')"
   ]
  },
  {
   "cell_type": "markdown",
   "id": "b80ffd60",
   "metadata": {},
   "source": [
    "### Encoding"
   ]
  },
  {
   "cell_type": "code",
   "execution_count": 27,
   "id": "17cb49d3",
   "metadata": {},
   "outputs": [
    {
     "data": {
      "text/plain": [
       "No     20212\n",
       "Yes     3312\n",
       "Name: bank_account, dtype: int64"
      ]
     },
     "execution_count": 27,
     "metadata": {},
     "output_type": "execute_result"
    }
   ],
   "source": [
    "train['bank_account'].value_counts()"
   ]
  },
  {
   "cell_type": "code",
   "execution_count": 28,
   "id": "1339bf51",
   "metadata": {},
   "outputs": [
    {
     "data": {
      "text/plain": [
       "Head of Household      12831\n",
       "Spouse                  6520\n",
       "Child                   2229\n",
       "Parent                  1086\n",
       "Other relative           668\n",
       "Other non-relatives      190\n",
       "Name: relationship_with_head, dtype: int64"
      ]
     },
     "execution_count": 28,
     "metadata": {},
     "output_type": "execute_result"
    }
   ],
   "source": [
    "train['relationship_with_head'].value_counts()"
   ]
  },
  {
   "cell_type": "code",
   "execution_count": 29,
   "id": "b49548cf",
   "metadata": {},
   "outputs": [
    {
     "data": {
      "text/plain": [
       "1    12831\n",
       "5     6520\n",
       "0     2229\n",
       "4     1086\n",
       "3      668\n",
       "2      190\n",
       "Name: relationship_with_head, dtype: int64"
      ]
     },
     "execution_count": 29,
     "metadata": {},
     "output_type": "execute_result"
    }
   ],
   "source": [
    "# Label Encoding\n",
    "from sklearn.preprocessing import LabelEncoder, OrdinalEncoder\n",
    "\n",
    "train\n",
    "train[['uniqueid', 'bank_account', 'location_type', 'cellphone_access', 'gender_of_respondent', 'relationship_with_head', 'marital_status']] = train[['uniqueid', 'bank_account', 'location_type', 'cellphone_access', 'gender_of_respondent', 'relationship_with_head', 'marital_status']].apply(LabelEncoder().fit_transform)\n",
    "train['relationship_with_head'].value_counts()"
   ]
  },
  {
   "cell_type": "code",
   "execution_count": 30,
   "id": "6b3c9d32",
   "metadata": {},
   "outputs": [
    {
     "data": {
      "text/html": [
       "<div>\n",
       "<style scoped>\n",
       "    .dataframe tbody tr th:only-of-type {\n",
       "        vertical-align: middle;\n",
       "    }\n",
       "\n",
       "    .dataframe tbody tr th {\n",
       "        vertical-align: top;\n",
       "    }\n",
       "\n",
       "    .dataframe thead th {\n",
       "        text-align: right;\n",
       "    }\n",
       "</style>\n",
       "<table border=\"1\" class=\"dataframe\">\n",
       "  <thead>\n",
       "    <tr style=\"text-align: right;\">\n",
       "      <th></th>\n",
       "      <th>country</th>\n",
       "      <th>year</th>\n",
       "      <th>uniqueid</th>\n",
       "      <th>bank_account</th>\n",
       "      <th>location_type</th>\n",
       "      <th>cellphone_access</th>\n",
       "      <th>household_size</th>\n",
       "      <th>age_of_respondent</th>\n",
       "      <th>gender_of_respondent</th>\n",
       "      <th>relationship_with_head</th>\n",
       "      <th>marital_status</th>\n",
       "      <th>education_level</th>\n",
       "      <th>job_type</th>\n",
       "    </tr>\n",
       "  </thead>\n",
       "  <tbody>\n",
       "    <tr>\n",
       "      <th>23519</th>\n",
       "      <td>4</td>\n",
       "      <td>2018</td>\n",
       "      <td>1239</td>\n",
       "      <td>0</td>\n",
       "      <td>0</td>\n",
       "      <td>1</td>\n",
       "      <td>4</td>\n",
       "      <td>48</td>\n",
       "      <td>0</td>\n",
       "      <td>1</td>\n",
       "      <td>0</td>\n",
       "      <td>No formal education</td>\n",
       "      <td>Other Income</td>\n",
       "    </tr>\n",
       "    <tr>\n",
       "      <th>23520</th>\n",
       "      <td>4</td>\n",
       "      <td>2018</td>\n",
       "      <td>1240</td>\n",
       "      <td>0</td>\n",
       "      <td>0</td>\n",
       "      <td>1</td>\n",
       "      <td>2</td>\n",
       "      <td>27</td>\n",
       "      <td>0</td>\n",
       "      <td>1</td>\n",
       "      <td>3</td>\n",
       "      <td>Secondary education</td>\n",
       "      <td>Other Income</td>\n",
       "    </tr>\n",
       "    <tr>\n",
       "      <th>23521</th>\n",
       "      <td>4</td>\n",
       "      <td>2018</td>\n",
       "      <td>1241</td>\n",
       "      <td>0</td>\n",
       "      <td>0</td>\n",
       "      <td>1</td>\n",
       "      <td>5</td>\n",
       "      <td>27</td>\n",
       "      <td>0</td>\n",
       "      <td>4</td>\n",
       "      <td>4</td>\n",
       "      <td>Primary education</td>\n",
       "      <td>Other Income</td>\n",
       "    </tr>\n",
       "    <tr>\n",
       "      <th>23522</th>\n",
       "      <td>4</td>\n",
       "      <td>2018</td>\n",
       "      <td>1242</td>\n",
       "      <td>0</td>\n",
       "      <td>1</td>\n",
       "      <td>1</td>\n",
       "      <td>7</td>\n",
       "      <td>30</td>\n",
       "      <td>0</td>\n",
       "      <td>4</td>\n",
       "      <td>0</td>\n",
       "      <td>Secondary education</td>\n",
       "      <td>Self employed</td>\n",
       "    </tr>\n",
       "    <tr>\n",
       "      <th>23523</th>\n",
       "      <td>4</td>\n",
       "      <td>2018</td>\n",
       "      <td>1243</td>\n",
       "      <td>0</td>\n",
       "      <td>0</td>\n",
       "      <td>1</td>\n",
       "      <td>10</td>\n",
       "      <td>20</td>\n",
       "      <td>1</td>\n",
       "      <td>0</td>\n",
       "      <td>3</td>\n",
       "      <td>Secondary education</td>\n",
       "      <td>No Income</td>\n",
       "    </tr>\n",
       "  </tbody>\n",
       "</table>\n",
       "</div>"
      ],
      "text/plain": [
       "       country  year  uniqueid  bank_account  location_type  cellphone_access  \\\n",
       "23519        4  2018      1239             0              0                 1   \n",
       "23520        4  2018      1240             0              0                 1   \n",
       "23521        4  2018      1241             0              0                 1   \n",
       "23522        4  2018      1242             0              1                 1   \n",
       "23523        4  2018      1243             0              0                 1   \n",
       "\n",
       "       household_size  age_of_respondent  gender_of_respondent  \\\n",
       "23519               4                 48                     0   \n",
       "23520               2                 27                     0   \n",
       "23521               5                 27                     0   \n",
       "23522               7                 30                     0   \n",
       "23523              10                 20                     1   \n",
       "\n",
       "       relationship_with_head  marital_status      education_level  \\\n",
       "23519                       1               0  No formal education   \n",
       "23520                       1               3  Secondary education   \n",
       "23521                       4               4    Primary education   \n",
       "23522                       4               0  Secondary education   \n",
       "23523                       0               3  Secondary education   \n",
       "\n",
       "            job_type  \n",
       "23519   Other Income  \n",
       "23520   Other Income  \n",
       "23521   Other Income  \n",
       "23522  Self employed  \n",
       "23523      No Income  "
      ]
     },
     "execution_count": 30,
     "metadata": {},
     "output_type": "execute_result"
    }
   ],
   "source": [
    "train = train.replace({'country' : {'Kenya':1, 'Rwanda':2, 'Tanzania':3, 'Uganda':4}})\n",
    "train.tail()"
   ]
  },
  {
   "cell_type": "code",
   "execution_count": 31,
   "id": "bf4610bb",
   "metadata": {},
   "outputs": [
    {
     "data": {
      "text/html": [
       "<div>\n",
       "<style scoped>\n",
       "    .dataframe tbody tr th:only-of-type {\n",
       "        vertical-align: middle;\n",
       "    }\n",
       "\n",
       "    .dataframe tbody tr th {\n",
       "        vertical-align: top;\n",
       "    }\n",
       "\n",
       "    .dataframe thead th {\n",
       "        text-align: right;\n",
       "    }\n",
       "</style>\n",
       "<table border=\"1\" class=\"dataframe\">\n",
       "  <thead>\n",
       "    <tr style=\"text-align: right;\">\n",
       "      <th></th>\n",
       "      <th>country</th>\n",
       "      <th>year</th>\n",
       "      <th>uniqueid</th>\n",
       "      <th>bank_account</th>\n",
       "      <th>location_type</th>\n",
       "      <th>cellphone_access</th>\n",
       "      <th>household_size</th>\n",
       "      <th>age_of_respondent</th>\n",
       "      <th>gender_of_respondent</th>\n",
       "      <th>relationship_with_head</th>\n",
       "      <th>marital_status</th>\n",
       "      <th>education_level</th>\n",
       "      <th>job_type</th>\n",
       "    </tr>\n",
       "  </thead>\n",
       "  <tbody>\n",
       "    <tr>\n",
       "      <th>0</th>\n",
       "      <td>1</td>\n",
       "      <td>2018</td>\n",
       "      <td>0</td>\n",
       "      <td>1</td>\n",
       "      <td>0</td>\n",
       "      <td>1</td>\n",
       "      <td>3</td>\n",
       "      <td>24</td>\n",
       "      <td>0</td>\n",
       "      <td>5</td>\n",
       "      <td>2</td>\n",
       "      <td>3.0</td>\n",
       "      <td>9.0</td>\n",
       "    </tr>\n",
       "    <tr>\n",
       "      <th>1</th>\n",
       "      <td>1</td>\n",
       "      <td>2018</td>\n",
       "      <td>1111</td>\n",
       "      <td>0</td>\n",
       "      <td>0</td>\n",
       "      <td>0</td>\n",
       "      <td>5</td>\n",
       "      <td>70</td>\n",
       "      <td>0</td>\n",
       "      <td>1</td>\n",
       "      <td>4</td>\n",
       "      <td>0.0</td>\n",
       "      <td>4.0</td>\n",
       "    </tr>\n",
       "    <tr>\n",
       "      <th>2</th>\n",
       "      <td>1</td>\n",
       "      <td>2018</td>\n",
       "      <td>2222</td>\n",
       "      <td>1</td>\n",
       "      <td>1</td>\n",
       "      <td>1</td>\n",
       "      <td>5</td>\n",
       "      <td>26</td>\n",
       "      <td>1</td>\n",
       "      <td>3</td>\n",
       "      <td>3</td>\n",
       "      <td>5.0</td>\n",
       "      <td>9.0</td>\n",
       "    </tr>\n",
       "    <tr>\n",
       "      <th>3</th>\n",
       "      <td>1</td>\n",
       "      <td>2018</td>\n",
       "      <td>3333</td>\n",
       "      <td>0</td>\n",
       "      <td>0</td>\n",
       "      <td>1</td>\n",
       "      <td>5</td>\n",
       "      <td>34</td>\n",
       "      <td>0</td>\n",
       "      <td>1</td>\n",
       "      <td>2</td>\n",
       "      <td>2.0</td>\n",
       "      <td>3.0</td>\n",
       "    </tr>\n",
       "    <tr>\n",
       "      <th>4</th>\n",
       "      <td>1</td>\n",
       "      <td>2018</td>\n",
       "      <td>4444</td>\n",
       "      <td>0</td>\n",
       "      <td>1</td>\n",
       "      <td>0</td>\n",
       "      <td>8</td>\n",
       "      <td>26</td>\n",
       "      <td>1</td>\n",
       "      <td>0</td>\n",
       "      <td>3</td>\n",
       "      <td>2.0</td>\n",
       "      <td>5.0</td>\n",
       "    </tr>\n",
       "  </tbody>\n",
       "</table>\n",
       "</div>"
      ],
      "text/plain": [
       "   country  year  uniqueid  bank_account  location_type  cellphone_access  \\\n",
       "0        1  2018         0             1              0                 1   \n",
       "1        1  2018      1111             0              0                 0   \n",
       "2        1  2018      2222             1              1                 1   \n",
       "3        1  2018      3333             0              0                 1   \n",
       "4        1  2018      4444             0              1                 0   \n",
       "\n",
       "   household_size  age_of_respondent  gender_of_respondent  \\\n",
       "0               3                 24                     0   \n",
       "1               5                 70                     0   \n",
       "2               5                 26                     1   \n",
       "3               5                 34                     0   \n",
       "4               8                 26                     1   \n",
       "\n",
       "   relationship_with_head  marital_status  education_level  job_type  \n",
       "0                       5               2              3.0       9.0  \n",
       "1                       1               4              0.0       4.0  \n",
       "2                       3               3              5.0       9.0  \n",
       "3                       1               2              2.0       3.0  \n",
       "4                       0               3              2.0       5.0  "
      ]
     },
     "execution_count": 31,
     "metadata": {},
     "output_type": "execute_result"
    }
   ],
   "source": [
    "# Oridinal Encoding\n",
    "ord_enc = OrdinalEncoder()\n",
    "train[['education_level', 'job_type']] = ord_enc.fit_transform(train[['education_level', 'job_type']])\n",
    "train.head()"
   ]
  },
  {
   "cell_type": "code",
   "execution_count": 32,
   "id": "49d35edd",
   "metadata": {},
   "outputs": [
    {
     "data": {
      "text/plain": [
       "country                   0\n",
       "year                      0\n",
       "uniqueid                  0\n",
       "bank_account              0\n",
       "location_type             0\n",
       "cellphone_access          0\n",
       "household_size            0\n",
       "age_of_respondent         0\n",
       "gender_of_respondent      0\n",
       "relationship_with_head    0\n",
       "marital_status            0\n",
       "education_level           0\n",
       "job_type                  0\n",
       "dtype: int64"
      ]
     },
     "execution_count": 32,
     "metadata": {},
     "output_type": "execute_result"
    }
   ],
   "source": [
    "train.isnull().sum()"
   ]
  },
  {
   "cell_type": "code",
   "execution_count": 33,
   "id": "b2c38a0c",
   "metadata": {},
   "outputs": [
    {
     "data": {
      "text/html": [
       "<div>\n",
       "<style scoped>\n",
       "    .dataframe tbody tr th:only-of-type {\n",
       "        vertical-align: middle;\n",
       "    }\n",
       "\n",
       "    .dataframe tbody tr th {\n",
       "        vertical-align: top;\n",
       "    }\n",
       "\n",
       "    .dataframe thead th {\n",
       "        text-align: right;\n",
       "    }\n",
       "</style>\n",
       "<table border=\"1\" class=\"dataframe\">\n",
       "  <thead>\n",
       "    <tr style=\"text-align: right;\">\n",
       "      <th></th>\n",
       "      <th>country</th>\n",
       "      <th>year</th>\n",
       "      <th>uniqueid</th>\n",
       "      <th>bank_account</th>\n",
       "      <th>location_type</th>\n",
       "      <th>cellphone_access</th>\n",
       "      <th>household_size</th>\n",
       "      <th>age_of_respondent</th>\n",
       "      <th>gender_of_respondent</th>\n",
       "      <th>relationship_with_head</th>\n",
       "      <th>marital_status</th>\n",
       "      <th>education_level</th>\n",
       "      <th>job_type</th>\n",
       "    </tr>\n",
       "  </thead>\n",
       "  <tbody>\n",
       "    <tr>\n",
       "      <th>country</th>\n",
       "      <td>1.000000</td>\n",
       "      <td>-0.094991</td>\n",
       "      <td>-0.054307</td>\n",
       "      <td>-0.161362</td>\n",
       "      <td>0.152285</td>\n",
       "      <td>-0.150003</td>\n",
       "      <td>-0.119158</td>\n",
       "      <td>-0.058778</td>\n",
       "      <td>-0.027055</td>\n",
       "      <td>0.130408</td>\n",
       "      <td>0.009282</td>\n",
       "      <td>-0.050706</td>\n",
       "      <td>0.381066</td>\n",
       "    </tr>\n",
       "    <tr>\n",
       "      <th>year</th>\n",
       "      <td>-0.094991</td>\n",
       "      <td>1.000000</td>\n",
       "      <td>-0.238110</td>\n",
       "      <td>0.112318</td>\n",
       "      <td>0.214621</td>\n",
       "      <td>-0.066505</td>\n",
       "      <td>-0.052264</td>\n",
       "      <td>-0.019330</td>\n",
       "      <td>0.000317</td>\n",
       "      <td>0.001801</td>\n",
       "      <td>-0.026187</td>\n",
       "      <td>0.173869</td>\n",
       "      <td>0.266323</td>\n",
       "    </tr>\n",
       "    <tr>\n",
       "      <th>uniqueid</th>\n",
       "      <td>-0.054307</td>\n",
       "      <td>-0.238110</td>\n",
       "      <td>1.000000</td>\n",
       "      <td>-0.022321</td>\n",
       "      <td>-0.075252</td>\n",
       "      <td>0.028067</td>\n",
       "      <td>0.022229</td>\n",
       "      <td>0.014326</td>\n",
       "      <td>0.003552</td>\n",
       "      <td>-0.014321</td>\n",
       "      <td>0.005249</td>\n",
       "      <td>-0.049955</td>\n",
       "      <td>-0.104799</td>\n",
       "    </tr>\n",
       "    <tr>\n",
       "      <th>bank_account</th>\n",
       "      <td>-0.161362</td>\n",
       "      <td>0.112318</td>\n",
       "      <td>-0.022321</td>\n",
       "      <td>1.000000</td>\n",
       "      <td>0.087288</td>\n",
       "      <td>0.209669</td>\n",
       "      <td>-0.028326</td>\n",
       "      <td>0.019429</td>\n",
       "      <td>0.117234</td>\n",
       "      <td>-0.070853</td>\n",
       "      <td>-0.038739</td>\n",
       "      <td>0.323768</td>\n",
       "      <td>-0.064171</td>\n",
       "    </tr>\n",
       "    <tr>\n",
       "      <th>location_type</th>\n",
       "      <td>0.152285</td>\n",
       "      <td>0.214621</td>\n",
       "      <td>-0.075252</td>\n",
       "      <td>0.087288</td>\n",
       "      <td>1.000000</td>\n",
       "      <td>-0.085238</td>\n",
       "      <td>-0.257284</td>\n",
       "      <td>-0.047373</td>\n",
       "      <td>0.012924</td>\n",
       "      <td>0.017042</td>\n",
       "      <td>0.080406</td>\n",
       "      <td>0.126128</td>\n",
       "      <td>0.368606</td>\n",
       "    </tr>\n",
       "    <tr>\n",
       "      <th>cellphone_access</th>\n",
       "      <td>-0.150003</td>\n",
       "      <td>-0.066505</td>\n",
       "      <td>0.028067</td>\n",
       "      <td>0.209669</td>\n",
       "      <td>-0.085238</td>\n",
       "      <td>1.000000</td>\n",
       "      <td>0.091360</td>\n",
       "      <td>-0.103611</td>\n",
       "      <td>0.102370</td>\n",
       "      <td>-0.048705</td>\n",
       "      <td>-0.094195</td>\n",
       "      <td>0.252970</td>\n",
       "      <td>-0.146141</td>\n",
       "    </tr>\n",
       "    <tr>\n",
       "      <th>household_size</th>\n",
       "      <td>-0.119158</td>\n",
       "      <td>-0.052264</td>\n",
       "      <td>0.022229</td>\n",
       "      <td>-0.028326</td>\n",
       "      <td>-0.257284</td>\n",
       "      <td>0.091360</td>\n",
       "      <td>1.000000</td>\n",
       "      <td>-0.129729</td>\n",
       "      <td>0.014576</td>\n",
       "      <td>0.104048</td>\n",
       "      <td>-0.127737</td>\n",
       "      <td>0.001613</td>\n",
       "      <td>-0.156835</td>\n",
       "    </tr>\n",
       "    <tr>\n",
       "      <th>age_of_respondent</th>\n",
       "      <td>-0.058778</td>\n",
       "      <td>-0.019330</td>\n",
       "      <td>0.014326</td>\n",
       "      <td>0.019429</td>\n",
       "      <td>-0.047373</td>\n",
       "      <td>-0.103611</td>\n",
       "      <td>-0.129729</td>\n",
       "      <td>1.000000</td>\n",
       "      <td>0.012745</td>\n",
       "      <td>-0.151477</td>\n",
       "      <td>0.222908</td>\n",
       "      <td>-0.352970</td>\n",
       "      <td>-0.102770</td>\n",
       "    </tr>\n",
       "    <tr>\n",
       "      <th>gender_of_respondent</th>\n",
       "      <td>-0.027055</td>\n",
       "      <td>0.000317</td>\n",
       "      <td>0.003552</td>\n",
       "      <td>0.117234</td>\n",
       "      <td>0.012924</td>\n",
       "      <td>0.102370</td>\n",
       "      <td>0.014576</td>\n",
       "      <td>0.012745</td>\n",
       "      <td>1.000000</td>\n",
       "      <td>-0.472048</td>\n",
       "      <td>-0.103238</td>\n",
       "      <td>0.119883</td>\n",
       "      <td>-0.029734</td>\n",
       "    </tr>\n",
       "    <tr>\n",
       "      <th>relationship_with_head</th>\n",
       "      <td>0.130408</td>\n",
       "      <td>0.001801</td>\n",
       "      <td>-0.014321</td>\n",
       "      <td>-0.070853</td>\n",
       "      <td>0.017042</td>\n",
       "      <td>-0.048705</td>\n",
       "      <td>0.104048</td>\n",
       "      <td>-0.151477</td>\n",
       "      <td>-0.472048</td>\n",
       "      <td>1.000000</td>\n",
       "      <td>-0.142229</td>\n",
       "      <td>-0.017141</td>\n",
       "      <td>0.041006</td>\n",
       "    </tr>\n",
       "    <tr>\n",
       "      <th>marital_status</th>\n",
       "      <td>0.009282</td>\n",
       "      <td>-0.026187</td>\n",
       "      <td>0.005249</td>\n",
       "      <td>-0.038739</td>\n",
       "      <td>0.080406</td>\n",
       "      <td>-0.094195</td>\n",
       "      <td>-0.127737</td>\n",
       "      <td>0.222908</td>\n",
       "      <td>-0.103238</td>\n",
       "      <td>-0.142229</td>\n",
       "      <td>1.000000</td>\n",
       "      <td>-0.123628</td>\n",
       "      <td>0.056011</td>\n",
       "    </tr>\n",
       "    <tr>\n",
       "      <th>education_level</th>\n",
       "      <td>-0.050706</td>\n",
       "      <td>0.173869</td>\n",
       "      <td>-0.049955</td>\n",
       "      <td>0.323768</td>\n",
       "      <td>0.126128</td>\n",
       "      <td>0.252970</td>\n",
       "      <td>0.001613</td>\n",
       "      <td>-0.352970</td>\n",
       "      <td>0.119883</td>\n",
       "      <td>-0.017141</td>\n",
       "      <td>-0.123628</td>\n",
       "      <td>1.000000</td>\n",
       "      <td>0.043823</td>\n",
       "    </tr>\n",
       "    <tr>\n",
       "      <th>job_type</th>\n",
       "      <td>0.381066</td>\n",
       "      <td>0.266323</td>\n",
       "      <td>-0.104799</td>\n",
       "      <td>-0.064171</td>\n",
       "      <td>0.368606</td>\n",
       "      <td>-0.146141</td>\n",
       "      <td>-0.156835</td>\n",
       "      <td>-0.102770</td>\n",
       "      <td>-0.029734</td>\n",
       "      <td>0.041006</td>\n",
       "      <td>0.056011</td>\n",
       "      <td>0.043823</td>\n",
       "      <td>1.000000</td>\n",
       "    </tr>\n",
       "  </tbody>\n",
       "</table>\n",
       "</div>"
      ],
      "text/plain": [
       "                         country      year  uniqueid  bank_account  \\\n",
       "country                 1.000000 -0.094991 -0.054307     -0.161362   \n",
       "year                   -0.094991  1.000000 -0.238110      0.112318   \n",
       "uniqueid               -0.054307 -0.238110  1.000000     -0.022321   \n",
       "bank_account           -0.161362  0.112318 -0.022321      1.000000   \n",
       "location_type           0.152285  0.214621 -0.075252      0.087288   \n",
       "cellphone_access       -0.150003 -0.066505  0.028067      0.209669   \n",
       "household_size         -0.119158 -0.052264  0.022229     -0.028326   \n",
       "age_of_respondent      -0.058778 -0.019330  0.014326      0.019429   \n",
       "gender_of_respondent   -0.027055  0.000317  0.003552      0.117234   \n",
       "relationship_with_head  0.130408  0.001801 -0.014321     -0.070853   \n",
       "marital_status          0.009282 -0.026187  0.005249     -0.038739   \n",
       "education_level        -0.050706  0.173869 -0.049955      0.323768   \n",
       "job_type                0.381066  0.266323 -0.104799     -0.064171   \n",
       "\n",
       "                        location_type  cellphone_access  household_size  \\\n",
       "country                      0.152285         -0.150003       -0.119158   \n",
       "year                         0.214621         -0.066505       -0.052264   \n",
       "uniqueid                    -0.075252          0.028067        0.022229   \n",
       "bank_account                 0.087288          0.209669       -0.028326   \n",
       "location_type                1.000000         -0.085238       -0.257284   \n",
       "cellphone_access            -0.085238          1.000000        0.091360   \n",
       "household_size              -0.257284          0.091360        1.000000   \n",
       "age_of_respondent           -0.047373         -0.103611       -0.129729   \n",
       "gender_of_respondent         0.012924          0.102370        0.014576   \n",
       "relationship_with_head       0.017042         -0.048705        0.104048   \n",
       "marital_status               0.080406         -0.094195       -0.127737   \n",
       "education_level              0.126128          0.252970        0.001613   \n",
       "job_type                     0.368606         -0.146141       -0.156835   \n",
       "\n",
       "                        age_of_respondent  gender_of_respondent  \\\n",
       "country                         -0.058778             -0.027055   \n",
       "year                            -0.019330              0.000317   \n",
       "uniqueid                         0.014326              0.003552   \n",
       "bank_account                     0.019429              0.117234   \n",
       "location_type                   -0.047373              0.012924   \n",
       "cellphone_access                -0.103611              0.102370   \n",
       "household_size                  -0.129729              0.014576   \n",
       "age_of_respondent                1.000000              0.012745   \n",
       "gender_of_respondent             0.012745              1.000000   \n",
       "relationship_with_head          -0.151477             -0.472048   \n",
       "marital_status                   0.222908             -0.103238   \n",
       "education_level                 -0.352970              0.119883   \n",
       "job_type                        -0.102770             -0.029734   \n",
       "\n",
       "                        relationship_with_head  marital_status  \\\n",
       "country                               0.130408        0.009282   \n",
       "year                                  0.001801       -0.026187   \n",
       "uniqueid                             -0.014321        0.005249   \n",
       "bank_account                         -0.070853       -0.038739   \n",
       "location_type                         0.017042        0.080406   \n",
       "cellphone_access                     -0.048705       -0.094195   \n",
       "household_size                        0.104048       -0.127737   \n",
       "age_of_respondent                    -0.151477        0.222908   \n",
       "gender_of_respondent                 -0.472048       -0.103238   \n",
       "relationship_with_head                1.000000       -0.142229   \n",
       "marital_status                       -0.142229        1.000000   \n",
       "education_level                      -0.017141       -0.123628   \n",
       "job_type                              0.041006        0.056011   \n",
       "\n",
       "                        education_level  job_type  \n",
       "country                       -0.050706  0.381066  \n",
       "year                           0.173869  0.266323  \n",
       "uniqueid                      -0.049955 -0.104799  \n",
       "bank_account                   0.323768 -0.064171  \n",
       "location_type                  0.126128  0.368606  \n",
       "cellphone_access               0.252970 -0.146141  \n",
       "household_size                 0.001613 -0.156835  \n",
       "age_of_respondent             -0.352970 -0.102770  \n",
       "gender_of_respondent           0.119883 -0.029734  \n",
       "relationship_with_head        -0.017141  0.041006  \n",
       "marital_status                -0.123628  0.056011  \n",
       "education_level                1.000000  0.043823  \n",
       "job_type                       0.043823  1.000000  "
      ]
     },
     "execution_count": 33,
     "metadata": {},
     "output_type": "execute_result"
    }
   ],
   "source": [
    "train.corr()"
   ]
  },
  {
   "cell_type": "markdown",
   "id": "959f7021",
   "metadata": {},
   "source": [
    "### Splitting Data"
   ]
  },
  {
   "cell_type": "code",
   "execution_count": 34,
   "id": "b1de10ab",
   "metadata": {},
   "outputs": [
    {
     "data": {
      "text/html": [
       "<div>\n",
       "<style scoped>\n",
       "    .dataframe tbody tr th:only-of-type {\n",
       "        vertical-align: middle;\n",
       "    }\n",
       "\n",
       "    .dataframe tbody tr th {\n",
       "        vertical-align: top;\n",
       "    }\n",
       "\n",
       "    .dataframe thead th {\n",
       "        text-align: right;\n",
       "    }\n",
       "</style>\n",
       "<table border=\"1\" class=\"dataframe\">\n",
       "  <thead>\n",
       "    <tr style=\"text-align: right;\">\n",
       "      <th></th>\n",
       "      <th>country</th>\n",
       "      <th>year</th>\n",
       "      <th>uniqueid</th>\n",
       "      <th>location_type</th>\n",
       "      <th>cellphone_access</th>\n",
       "      <th>household_size</th>\n",
       "      <th>age_of_respondent</th>\n",
       "      <th>gender_of_respondent</th>\n",
       "      <th>relationship_with_head</th>\n",
       "      <th>marital_status</th>\n",
       "      <th>education_level</th>\n",
       "      <th>job_type</th>\n",
       "    </tr>\n",
       "  </thead>\n",
       "  <tbody>\n",
       "    <tr>\n",
       "      <th>0</th>\n",
       "      <td>1</td>\n",
       "      <td>2018</td>\n",
       "      <td>0</td>\n",
       "      <td>0</td>\n",
       "      <td>1</td>\n",
       "      <td>3</td>\n",
       "      <td>24</td>\n",
       "      <td>0</td>\n",
       "      <td>5</td>\n",
       "      <td>2</td>\n",
       "      <td>3.0</td>\n",
       "      <td>9.0</td>\n",
       "    </tr>\n",
       "    <tr>\n",
       "      <th>1</th>\n",
       "      <td>1</td>\n",
       "      <td>2018</td>\n",
       "      <td>1111</td>\n",
       "      <td>0</td>\n",
       "      <td>0</td>\n",
       "      <td>5</td>\n",
       "      <td>70</td>\n",
       "      <td>0</td>\n",
       "      <td>1</td>\n",
       "      <td>4</td>\n",
       "      <td>0.0</td>\n",
       "      <td>4.0</td>\n",
       "    </tr>\n",
       "    <tr>\n",
       "      <th>2</th>\n",
       "      <td>1</td>\n",
       "      <td>2018</td>\n",
       "      <td>2222</td>\n",
       "      <td>1</td>\n",
       "      <td>1</td>\n",
       "      <td>5</td>\n",
       "      <td>26</td>\n",
       "      <td>1</td>\n",
       "      <td>3</td>\n",
       "      <td>3</td>\n",
       "      <td>5.0</td>\n",
       "      <td>9.0</td>\n",
       "    </tr>\n",
       "    <tr>\n",
       "      <th>3</th>\n",
       "      <td>1</td>\n",
       "      <td>2018</td>\n",
       "      <td>3333</td>\n",
       "      <td>0</td>\n",
       "      <td>1</td>\n",
       "      <td>5</td>\n",
       "      <td>34</td>\n",
       "      <td>0</td>\n",
       "      <td>1</td>\n",
       "      <td>2</td>\n",
       "      <td>2.0</td>\n",
       "      <td>3.0</td>\n",
       "    </tr>\n",
       "    <tr>\n",
       "      <th>4</th>\n",
       "      <td>1</td>\n",
       "      <td>2018</td>\n",
       "      <td>4444</td>\n",
       "      <td>1</td>\n",
       "      <td>0</td>\n",
       "      <td>8</td>\n",
       "      <td>26</td>\n",
       "      <td>1</td>\n",
       "      <td>0</td>\n",
       "      <td>3</td>\n",
       "      <td>2.0</td>\n",
       "      <td>5.0</td>\n",
       "    </tr>\n",
       "    <tr>\n",
       "      <th>...</th>\n",
       "      <td>...</td>\n",
       "      <td>...</td>\n",
       "      <td>...</td>\n",
       "      <td>...</td>\n",
       "      <td>...</td>\n",
       "      <td>...</td>\n",
       "      <td>...</td>\n",
       "      <td>...</td>\n",
       "      <td>...</td>\n",
       "      <td>...</td>\n",
       "      <td>...</td>\n",
       "      <td>...</td>\n",
       "    </tr>\n",
       "    <tr>\n",
       "      <th>23519</th>\n",
       "      <td>4</td>\n",
       "      <td>2018</td>\n",
       "      <td>1239</td>\n",
       "      <td>0</td>\n",
       "      <td>1</td>\n",
       "      <td>4</td>\n",
       "      <td>48</td>\n",
       "      <td>0</td>\n",
       "      <td>1</td>\n",
       "      <td>0</td>\n",
       "      <td>0.0</td>\n",
       "      <td>7.0</td>\n",
       "    </tr>\n",
       "    <tr>\n",
       "      <th>23520</th>\n",
       "      <td>4</td>\n",
       "      <td>2018</td>\n",
       "      <td>1240</td>\n",
       "      <td>0</td>\n",
       "      <td>1</td>\n",
       "      <td>2</td>\n",
       "      <td>27</td>\n",
       "      <td>0</td>\n",
       "      <td>1</td>\n",
       "      <td>3</td>\n",
       "      <td>3.0</td>\n",
       "      <td>7.0</td>\n",
       "    </tr>\n",
       "    <tr>\n",
       "      <th>23521</th>\n",
       "      <td>4</td>\n",
       "      <td>2018</td>\n",
       "      <td>1241</td>\n",
       "      <td>0</td>\n",
       "      <td>1</td>\n",
       "      <td>5</td>\n",
       "      <td>27</td>\n",
       "      <td>0</td>\n",
       "      <td>4</td>\n",
       "      <td>4</td>\n",
       "      <td>2.0</td>\n",
       "      <td>7.0</td>\n",
       "    </tr>\n",
       "    <tr>\n",
       "      <th>23522</th>\n",
       "      <td>4</td>\n",
       "      <td>2018</td>\n",
       "      <td>1242</td>\n",
       "      <td>1</td>\n",
       "      <td>1</td>\n",
       "      <td>7</td>\n",
       "      <td>30</td>\n",
       "      <td>0</td>\n",
       "      <td>4</td>\n",
       "      <td>0</td>\n",
       "      <td>3.0</td>\n",
       "      <td>9.0</td>\n",
       "    </tr>\n",
       "    <tr>\n",
       "      <th>23523</th>\n",
       "      <td>4</td>\n",
       "      <td>2018</td>\n",
       "      <td>1243</td>\n",
       "      <td>0</td>\n",
       "      <td>1</td>\n",
       "      <td>10</td>\n",
       "      <td>20</td>\n",
       "      <td>1</td>\n",
       "      <td>0</td>\n",
       "      <td>3</td>\n",
       "      <td>3.0</td>\n",
       "      <td>6.0</td>\n",
       "    </tr>\n",
       "  </tbody>\n",
       "</table>\n",
       "<p>23524 rows × 12 columns</p>\n",
       "</div>"
      ],
      "text/plain": [
       "       country  year  uniqueid  location_type  cellphone_access  \\\n",
       "0            1  2018         0              0                 1   \n",
       "1            1  2018      1111              0                 0   \n",
       "2            1  2018      2222              1                 1   \n",
       "3            1  2018      3333              0                 1   \n",
       "4            1  2018      4444              1                 0   \n",
       "...        ...   ...       ...            ...               ...   \n",
       "23519        4  2018      1239              0                 1   \n",
       "23520        4  2018      1240              0                 1   \n",
       "23521        4  2018      1241              0                 1   \n",
       "23522        4  2018      1242              1                 1   \n",
       "23523        4  2018      1243              0                 1   \n",
       "\n",
       "       household_size  age_of_respondent  gender_of_respondent  \\\n",
       "0                   3                 24                     0   \n",
       "1                   5                 70                     0   \n",
       "2                   5                 26                     1   \n",
       "3                   5                 34                     0   \n",
       "4                   8                 26                     1   \n",
       "...               ...                ...                   ...   \n",
       "23519               4                 48                     0   \n",
       "23520               2                 27                     0   \n",
       "23521               5                 27                     0   \n",
       "23522               7                 30                     0   \n",
       "23523              10                 20                     1   \n",
       "\n",
       "       relationship_with_head  marital_status  education_level  job_type  \n",
       "0                           5               2              3.0       9.0  \n",
       "1                           1               4              0.0       4.0  \n",
       "2                           3               3              5.0       9.0  \n",
       "3                           1               2              2.0       3.0  \n",
       "4                           0               3              2.0       5.0  \n",
       "...                       ...             ...              ...       ...  \n",
       "23519                       1               0              0.0       7.0  \n",
       "23520                       1               3              3.0       7.0  \n",
       "23521                       4               4              2.0       7.0  \n",
       "23522                       4               0              3.0       9.0  \n",
       "23523                       0               3              3.0       6.0  \n",
       "\n",
       "[23524 rows x 12 columns]"
      ]
     },
     "execution_count": 34,
     "metadata": {},
     "output_type": "execute_result"
    }
   ],
   "source": [
    "x = train.drop(columns='bank_account')\n",
    "# x = train[['location_type', 'gender_of_respondent', 'marital_status']]\n",
    "y = train['bank_account']\n",
    "x"
   ]
  },
  {
   "cell_type": "code",
   "execution_count": 36,
   "id": "81048a78",
   "metadata": {},
   "outputs": [
    {
     "data": {
      "text/plain": [
       "16466"
      ]
     },
     "execution_count": 36,
     "metadata": {},
     "output_type": "execute_result"
    }
   ],
   "source": [
    "from sklearn.model_selection import train_test_split\n",
    "\n",
    "x_train, x_test, y_train, y_test = train_test_split(x, y, test_size=0.3, random_state=0)\n",
    "\n",
    "len(x_train)"
   ]
  },
  {
   "cell_type": "markdown",
   "id": "973c5d05",
   "metadata": {},
   "source": [
    "### Regression"
   ]
  },
  {
   "cell_type": "code",
   "execution_count": 38,
   "id": "b549ede6",
   "metadata": {},
   "outputs": [
    {
     "data": {
      "text/plain": [
       "KNeighborsClassifier(n_neighbors=84)"
      ]
     },
     "execution_count": 38,
     "metadata": {},
     "output_type": "execute_result"
    }
   ],
   "source": [
    "# from sklearn.linear_model import LogisticRegression\n",
    "from sklearn.neighbors import KNeighborsClassifier\n",
    "\n",
    "clf = KNeighborsClassifier(n_neighbors=84)\n",
    "clf.fit(x_train, y_train)\n",
    "\n",
    "# lr = LogisticRegression(max_iter=700)k\n",
    "# lr.fit(x_train, y_train)"
   ]
  },
  {
   "cell_type": "code",
   "execution_count": 39,
   "id": "15c21f7a",
   "metadata": {},
   "outputs": [
    {
     "name": "stderr",
     "output_type": "stream",
     "text": [
      "C:\\Users\\MARINE\\anaconda3\\lib\\site-packages\\sklearn\\neighbors\\_classification.py:228: FutureWarning: Unlike other reduction functions (e.g. `skew`, `kurtosis`), the default behavior of `mode` typically preserves the axis it acts along. In SciPy 1.11.0, this behavior will change: the default value of `keepdims` will become False, the `axis` over which the statistic is taken will be eliminated, and the value None will no longer be accepted. Set `keepdims` to True or False to avoid this warning.\n",
      "  mode, _ = stats.mode(_y[neigh_ind, k], axis=1)\n"
     ]
    }
   ],
   "source": [
    "y_pred = clf.predict(x_test)"
   ]
  },
  {
   "cell_type": "markdown",
   "id": "dcaf0fce",
   "metadata": {},
   "source": [
    "### Evaluating the model"
   ]
  },
  {
   "cell_type": "code",
   "execution_count": 43,
   "id": "8ea423e6",
   "metadata": {},
   "outputs": [
    {
     "data": {
      "text/plain": [
       "-0.16951118475559235"
      ]
     },
     "execution_count": 43,
     "metadata": {},
     "output_type": "execute_result"
    }
   ],
   "source": [
    "from sklearn.metrics import r2_score, mean_squared_error, mean_absolute_error, median_absolute_error, accuracy_score, balanced_accuracy_score, average_precision_score, brier_score_loss, roc_auc_score, confusion_matrix \n",
    "r2_score(y_test, y_pred)"
   ]
  },
  {
   "cell_type": "code",
   "execution_count": 50,
   "id": "4774e221",
   "metadata": {},
   "outputs": [
    {
     "data": {
      "text/plain": [
       "0.8760272031737036"
      ]
     },
     "execution_count": 50,
     "metadata": {},
     "output_type": "execute_result"
    }
   ],
   "source": [
    "# using score() method\n",
    "lr.score(x_test, y_test)"
   ]
  },
  {
   "cell_type": "code",
   "execution_count": 47,
   "id": "28dce032",
   "metadata": {},
   "outputs": [
    {
     "data": {
      "text/plain": [
       "0.1239727968262964"
      ]
     },
     "execution_count": 47,
     "metadata": {},
     "output_type": "execute_result"
    }
   ],
   "source": [
    "# mean squared error\n",
    "mean_squared_error(y_test, y_pred)"
   ]
  },
  {
   "cell_type": "code",
   "execution_count": 51,
   "id": "4d1c243c",
   "metadata": {},
   "outputs": [
    {
     "data": {
      "text/plain": [
       "0.1239727968262964"
      ]
     },
     "execution_count": 51,
     "metadata": {},
     "output_type": "execute_result"
    }
   ],
   "source": [
    "# mean absolute error\n",
    "mean_absolute_error(y_test, y_pred)"
   ]
  },
  {
   "cell_type": "code",
   "execution_count": 54,
   "id": "bf327b37",
   "metadata": {},
   "outputs": [
    {
     "data": {
      "text/plain": [
       "0.35209770920342043"
      ]
     },
     "execution_count": 54,
     "metadata": {},
     "output_type": "execute_result"
    }
   ],
   "source": [
    "# mean_square_root\n",
    "mean_squared_error(y_test, y_pred, squared=False)"
   ]
  },
  {
   "cell_type": "code",
   "execution_count": 56,
   "id": "b65803f1",
   "metadata": {},
   "outputs": [
    {
     "data": {
      "text/plain": [
       "0.0"
      ]
     },
     "execution_count": 56,
     "metadata": {},
     "output_type": "execute_result"
    }
   ],
   "source": [
    "# median_absolute_error\n",
    "median_absolute_error(y_test, y_pred)"
   ]
  },
  {
   "cell_type": "code",
   "execution_count": 42,
   "id": "74113983",
   "metadata": {},
   "outputs": [
    {
     "data": {
      "text/plain": [
       "0.8550580901105129"
      ]
     },
     "execution_count": 42,
     "metadata": {},
     "output_type": "execute_result"
    }
   ],
   "source": [
    "# accuracy_score\n",
    "accuracy_score(y_test, y_pred)"
   ]
  },
  {
   "cell_type": "code",
   "execution_count": 59,
   "id": "d9943357",
   "metadata": {},
   "outputs": [
    {
     "data": {
      "text/plain": [
       "0.6006708387200266"
      ]
     },
     "execution_count": 59,
     "metadata": {},
     "output_type": "execute_result"
    }
   ],
   "source": [
    "# balanced accuracy score\n",
    "balanced_accuracy_score(y_test, y_pred)"
   ]
  },
  {
   "cell_type": "code",
   "execution_count": 61,
   "id": "09aa4f7c",
   "metadata": {},
   "outputs": [
    {
     "data": {
      "text/plain": [
       "0.24722192834549678"
      ]
     },
     "execution_count": 61,
     "metadata": {},
     "output_type": "execute_result"
    }
   ],
   "source": [
    "# average_precision_score\n",
    "average_precision_score(y_test, y_pred)"
   ]
  },
  {
   "cell_type": "code",
   "execution_count": 62,
   "id": "a7930189",
   "metadata": {},
   "outputs": [
    {
     "data": {
      "text/plain": [
       "0.1239727968262964"
      ]
     },
     "execution_count": 62,
     "metadata": {},
     "output_type": "execute_result"
    }
   ],
   "source": [
    "# brier_score_loss\n",
    "brier_score_loss(y_test, y_pred)"
   ]
  },
  {
   "cell_type": "code",
   "execution_count": 64,
   "id": "3147a708",
   "metadata": {},
   "outputs": [
    {
     "data": {
      "text/plain": [
       "0.6006708387200266"
      ]
     },
     "execution_count": 64,
     "metadata": {},
     "output_type": "execute_result"
    }
   ],
   "source": [
    "# roc_auc_score\n",
    "roc_auc_score(y_test, y_pred)"
   ]
  },
  {
   "cell_type": "code",
   "execution_count": 44,
   "id": "b0e94880",
   "metadata": {},
   "outputs": [
    {
     "data": {
      "text/plain": [
       "array([[6035,    0],\n",
       "       [1023,    0]], dtype=int64)"
      ]
     },
     "execution_count": 44,
     "metadata": {},
     "output_type": "execute_result"
    }
   ],
   "source": [
    "confusion_matrix(y_test, y_pred)"
   ]
  },
  {
   "cell_type": "markdown",
   "id": "2cd8529f",
   "metadata": {},
   "source": [
    "### other scoring measures\n",
    "### mean squared error\n",
    "### mean absolute error\n",
    "### model score"
   ]
  },
  {
   "cell_type": "markdown",
   "id": "a99bb2af",
   "metadata": {},
   "source": [
    "### Type of chart to use\n",
    "### Assumptions of models\n",
    "### Type of model depending on the data\n",
    "### Types of variables\n",
    "###  Methods of model evaluation and why"
   ]
  },
  {
   "cell_type": "code",
   "execution_count": null,
   "id": "3547c333",
   "metadata": {},
   "outputs": [],
   "source": []
  }
 ],
 "metadata": {
  "kernelspec": {
   "display_name": "Python 3 (ipykernel)",
   "language": "python",
   "name": "python3"
  },
  "language_info": {
   "codemirror_mode": {
    "name": "ipython",
    "version": 3
   },
   "file_extension": ".py",
   "mimetype": "text/x-python",
   "name": "python",
   "nbconvert_exporter": "python",
   "pygments_lexer": "ipython3",
   "version": "3.9.13"
  }
 },
 "nbformat": 4,
 "nbformat_minor": 5
}
